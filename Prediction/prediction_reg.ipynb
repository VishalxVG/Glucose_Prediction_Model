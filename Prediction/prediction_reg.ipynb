{
 "cells": [
  {
   "cell_type": "code",
   "execution_count": 5,
   "metadata": {},
   "outputs": [],
   "source": [
    "import joblib\n",
    "import numpy as np\n",
    "import pandas as pd\n",
    "from sklearn.preprocessing import StandardScaler\n"
   ]
  },
  {
   "cell_type": "code",
   "execution_count": 3,
   "metadata": {},
   "outputs": [],
   "source": [
    "regressorModel = joblib.load('glucose_prediction_model_regressor.pkl')"
   ]
  },
  {
   "cell_type": "code",
   "execution_count": 8,
   "metadata": {},
   "outputs": [
    {
     "ename": "ValueError",
     "evalue": "The feature names should match those that were passed during fit.\nFeature names unseen at fit time:\n- AnyHealthcare\n- CholCheck\n- DiffWalk\n- Education\n- FPG\n- ...\n",
     "output_type": "error",
     "traceback": [
      "\u001b[1;31m---------------------------------------------------------------------------\u001b[0m",
      "\u001b[1;31mValueError\u001b[0m                                Traceback (most recent call last)",
      "Cell \u001b[1;32mIn[8], line 65\u001b[0m\n\u001b[0;32m     62\u001b[0m user_df_scaled \u001b[38;5;241m=\u001b[39m preprocess_input(user_data)\n\u001b[0;32m     64\u001b[0m \u001b[38;5;66;03m# Step 3: Predict the future glucose level\u001b[39;00m\n\u001b[1;32m---> 65\u001b[0m future_glucose_level \u001b[38;5;241m=\u001b[39m \u001b[43mpredict_glucose_level\u001b[49m\u001b[43m(\u001b[49m\u001b[43muser_df_scaled\u001b[49m\u001b[43m)\u001b[49m\n\u001b[0;32m     67\u001b[0m \u001b[38;5;28mprint\u001b[39m(\u001b[38;5;124mf\u001b[39m\u001b[38;5;124m\"\u001b[39m\u001b[38;5;124mPredicted Future Glucose Level: \u001b[39m\u001b[38;5;132;01m{\u001b[39;00mfuture_glucose_level\u001b[38;5;132;01m}\u001b[39;00m\u001b[38;5;124m\"\u001b[39m)\n",
      "Cell \u001b[1;32mIn[8], line 53\u001b[0m, in \u001b[0;36mpredict_glucose_level\u001b[1;34m(user_df_scaled)\u001b[0m\n\u001b[0;32m     49\u001b[0m \u001b[38;5;250m\u001b[39m\u001b[38;5;124;03m\"\"\"\u001b[39;00m\n\u001b[0;32m     50\u001b[0m \u001b[38;5;124;03mUse the trained model to predict the future glucose level.\u001b[39;00m\n\u001b[0;32m     51\u001b[0m \u001b[38;5;124;03m\"\"\"\u001b[39;00m\n\u001b[0;32m     52\u001b[0m \u001b[38;5;66;03m# Predict the future glucose level\u001b[39;00m\n\u001b[1;32m---> 53\u001b[0m prediction \u001b[38;5;241m=\u001b[39m \u001b[43mregressorModel\u001b[49m\u001b[38;5;241;43m.\u001b[39;49m\u001b[43mpredict\u001b[49m\u001b[43m(\u001b[49m\u001b[43muser_df_scaled\u001b[49m\u001b[43m)\u001b[49m\n\u001b[0;32m     54\u001b[0m \u001b[38;5;28;01mreturn\u001b[39;00m prediction[\u001b[38;5;241m0\u001b[39m]\n",
      "File \u001b[1;32md:\\CODING\\PYTHON\\MINOR PROJECT\\.venv\\Lib\\site-packages\\sklearn\\ensemble\\_forest.py:1063\u001b[0m, in \u001b[0;36mForestRegressor.predict\u001b[1;34m(self, X)\u001b[0m\n\u001b[0;32m   1061\u001b[0m check_is_fitted(\u001b[38;5;28mself\u001b[39m)\n\u001b[0;32m   1062\u001b[0m \u001b[38;5;66;03m# Check data\u001b[39;00m\n\u001b[1;32m-> 1063\u001b[0m X \u001b[38;5;241m=\u001b[39m \u001b[38;5;28;43mself\u001b[39;49m\u001b[38;5;241;43m.\u001b[39;49m\u001b[43m_validate_X_predict\u001b[49m\u001b[43m(\u001b[49m\u001b[43mX\u001b[49m\u001b[43m)\u001b[49m\n\u001b[0;32m   1065\u001b[0m \u001b[38;5;66;03m# Assign chunk of trees to jobs\u001b[39;00m\n\u001b[0;32m   1066\u001b[0m n_jobs, _, _ \u001b[38;5;241m=\u001b[39m _partition_estimators(\u001b[38;5;28mself\u001b[39m\u001b[38;5;241m.\u001b[39mn_estimators, \u001b[38;5;28mself\u001b[39m\u001b[38;5;241m.\u001b[39mn_jobs)\n",
      "File \u001b[1;32md:\\CODING\\PYTHON\\MINOR PROJECT\\.venv\\Lib\\site-packages\\sklearn\\ensemble\\_forest.py:641\u001b[0m, in \u001b[0;36mBaseForest._validate_X_predict\u001b[1;34m(self, X)\u001b[0m\n\u001b[0;32m    638\u001b[0m \u001b[38;5;28;01melse\u001b[39;00m:\n\u001b[0;32m    639\u001b[0m     force_all_finite \u001b[38;5;241m=\u001b[39m \u001b[38;5;28;01mTrue\u001b[39;00m\n\u001b[1;32m--> 641\u001b[0m X \u001b[38;5;241m=\u001b[39m \u001b[38;5;28;43mself\u001b[39;49m\u001b[38;5;241;43m.\u001b[39;49m\u001b[43m_validate_data\u001b[49m\u001b[43m(\u001b[49m\n\u001b[0;32m    642\u001b[0m \u001b[43m    \u001b[49m\u001b[43mX\u001b[49m\u001b[43m,\u001b[49m\n\u001b[0;32m    643\u001b[0m \u001b[43m    \u001b[49m\u001b[43mdtype\u001b[49m\u001b[38;5;241;43m=\u001b[39;49m\u001b[43mDTYPE\u001b[49m\u001b[43m,\u001b[49m\n\u001b[0;32m    644\u001b[0m \u001b[43m    \u001b[49m\u001b[43maccept_sparse\u001b[49m\u001b[38;5;241;43m=\u001b[39;49m\u001b[38;5;124;43m\"\u001b[39;49m\u001b[38;5;124;43mcsr\u001b[39;49m\u001b[38;5;124;43m\"\u001b[39;49m\u001b[43m,\u001b[49m\n\u001b[0;32m    645\u001b[0m \u001b[43m    \u001b[49m\u001b[43mreset\u001b[49m\u001b[38;5;241;43m=\u001b[39;49m\u001b[38;5;28;43;01mFalse\u001b[39;49;00m\u001b[43m,\u001b[49m\n\u001b[0;32m    646\u001b[0m \u001b[43m    \u001b[49m\u001b[43mforce_all_finite\u001b[49m\u001b[38;5;241;43m=\u001b[39;49m\u001b[43mforce_all_finite\u001b[49m\u001b[43m,\u001b[49m\n\u001b[0;32m    647\u001b[0m \u001b[43m\u001b[49m\u001b[43m)\u001b[49m\n\u001b[0;32m    648\u001b[0m \u001b[38;5;28;01mif\u001b[39;00m issparse(X) \u001b[38;5;129;01mand\u001b[39;00m (X\u001b[38;5;241m.\u001b[39mindices\u001b[38;5;241m.\u001b[39mdtype \u001b[38;5;241m!=\u001b[39m np\u001b[38;5;241m.\u001b[39mintc \u001b[38;5;129;01mor\u001b[39;00m X\u001b[38;5;241m.\u001b[39mindptr\u001b[38;5;241m.\u001b[39mdtype \u001b[38;5;241m!=\u001b[39m np\u001b[38;5;241m.\u001b[39mintc):\n\u001b[0;32m    649\u001b[0m     \u001b[38;5;28;01mraise\u001b[39;00m \u001b[38;5;167;01mValueError\u001b[39;00m(\u001b[38;5;124m\"\u001b[39m\u001b[38;5;124mNo support for np.int64 index based sparse matrices\u001b[39m\u001b[38;5;124m\"\u001b[39m)\n",
      "File \u001b[1;32md:\\CODING\\PYTHON\\MINOR PROJECT\\.venv\\Lib\\site-packages\\sklearn\\base.py:608\u001b[0m, in \u001b[0;36mBaseEstimator._validate_data\u001b[1;34m(self, X, y, reset, validate_separately, cast_to_ndarray, **check_params)\u001b[0m\n\u001b[0;32m    537\u001b[0m \u001b[38;5;28;01mdef\u001b[39;00m \u001b[38;5;21m_validate_data\u001b[39m(\n\u001b[0;32m    538\u001b[0m     \u001b[38;5;28mself\u001b[39m,\n\u001b[0;32m    539\u001b[0m     X\u001b[38;5;241m=\u001b[39m\u001b[38;5;124m\"\u001b[39m\u001b[38;5;124mno_validation\u001b[39m\u001b[38;5;124m\"\u001b[39m,\n\u001b[1;32m   (...)\u001b[0m\n\u001b[0;32m    544\u001b[0m     \u001b[38;5;241m*\u001b[39m\u001b[38;5;241m*\u001b[39mcheck_params,\n\u001b[0;32m    545\u001b[0m ):\n\u001b[0;32m    546\u001b[0m \u001b[38;5;250m    \u001b[39m\u001b[38;5;124;03m\"\"\"Validate input data and set or check the `n_features_in_` attribute.\u001b[39;00m\n\u001b[0;32m    547\u001b[0m \n\u001b[0;32m    548\u001b[0m \u001b[38;5;124;03m    Parameters\u001b[39;00m\n\u001b[1;32m   (...)\u001b[0m\n\u001b[0;32m    606\u001b[0m \u001b[38;5;124;03m        validated.\u001b[39;00m\n\u001b[0;32m    607\u001b[0m \u001b[38;5;124;03m    \"\"\"\u001b[39;00m\n\u001b[1;32m--> 608\u001b[0m     \u001b[38;5;28;43mself\u001b[39;49m\u001b[38;5;241;43m.\u001b[39;49m\u001b[43m_check_feature_names\u001b[49m\u001b[43m(\u001b[49m\u001b[43mX\u001b[49m\u001b[43m,\u001b[49m\u001b[43m \u001b[49m\u001b[43mreset\u001b[49m\u001b[38;5;241;43m=\u001b[39;49m\u001b[43mreset\u001b[49m\u001b[43m)\u001b[49m\n\u001b[0;32m    610\u001b[0m     \u001b[38;5;28;01mif\u001b[39;00m y \u001b[38;5;129;01mis\u001b[39;00m \u001b[38;5;28;01mNone\u001b[39;00m \u001b[38;5;129;01mand\u001b[39;00m \u001b[38;5;28mself\u001b[39m\u001b[38;5;241m.\u001b[39m_get_tags()[\u001b[38;5;124m\"\u001b[39m\u001b[38;5;124mrequires_y\u001b[39m\u001b[38;5;124m\"\u001b[39m]:\n\u001b[0;32m    611\u001b[0m         \u001b[38;5;28;01mraise\u001b[39;00m \u001b[38;5;167;01mValueError\u001b[39;00m(\n\u001b[0;32m    612\u001b[0m             \u001b[38;5;124mf\u001b[39m\u001b[38;5;124m\"\u001b[39m\u001b[38;5;124mThis \u001b[39m\u001b[38;5;132;01m{\u001b[39;00m\u001b[38;5;28mself\u001b[39m\u001b[38;5;241m.\u001b[39m\u001b[38;5;18m__class__\u001b[39m\u001b[38;5;241m.\u001b[39m\u001b[38;5;18m__name__\u001b[39m\u001b[38;5;132;01m}\u001b[39;00m\u001b[38;5;124m estimator \u001b[39m\u001b[38;5;124m\"\u001b[39m\n\u001b[0;32m    613\u001b[0m             \u001b[38;5;124m\"\u001b[39m\u001b[38;5;124mrequires y to be passed, but the target y is None.\u001b[39m\u001b[38;5;124m\"\u001b[39m\n\u001b[0;32m    614\u001b[0m         )\n",
      "File \u001b[1;32md:\\CODING\\PYTHON\\MINOR PROJECT\\.venv\\Lib\\site-packages\\sklearn\\base.py:535\u001b[0m, in \u001b[0;36mBaseEstimator._check_feature_names\u001b[1;34m(self, X, reset)\u001b[0m\n\u001b[0;32m    530\u001b[0m \u001b[38;5;28;01mif\u001b[39;00m \u001b[38;5;129;01mnot\u001b[39;00m missing_names \u001b[38;5;129;01mand\u001b[39;00m \u001b[38;5;129;01mnot\u001b[39;00m unexpected_names:\n\u001b[0;32m    531\u001b[0m     message \u001b[38;5;241m+\u001b[39m\u001b[38;5;241m=\u001b[39m (\n\u001b[0;32m    532\u001b[0m         \u001b[38;5;124m\"\u001b[39m\u001b[38;5;124mFeature names must be in the same order as they were in fit.\u001b[39m\u001b[38;5;130;01m\\n\u001b[39;00m\u001b[38;5;124m\"\u001b[39m\n\u001b[0;32m    533\u001b[0m     )\n\u001b[1;32m--> 535\u001b[0m \u001b[38;5;28;01mraise\u001b[39;00m \u001b[38;5;167;01mValueError\u001b[39;00m(message)\n",
      "\u001b[1;31mValueError\u001b[0m: The feature names should match those that were passed during fit.\nFeature names unseen at fit time:\n- AnyHealthcare\n- CholCheck\n- DiffWalk\n- Education\n- FPG\n- ...\n"
     ]
    }
   ],
   "source": [
    "expected_features = [\n",
    "    'Diabetes', 'HighBP', 'HighChol', 'CholCheck', 'BMI', 'smoking',\n",
    "    'Stroke', 'HeartDiseaseorAttack', 'PhysActivity', 'Fruits', 'Veggies',\n",
    "    'HvyAlcoholConsump', 'AnyHealthcare', 'NoDocbcCost', 'GenHlth', 'MentHlth',\n",
    "    'PhysHlth', 'DiffWalk', 'Gender', 'Age', 'Education', 'Income', 'SBP', 'DBP',\n",
    "    'FPG', 'Chol', 'Tri', 'HDL', 'LDL', 'ALT', 'BUN', 'CCR', 'FFPG', 'drinking',\n",
    "    'family_history'\n",
    "]\n",
    "\n",
    "# Define only the important features you’ll ask from the user\n",
    "important_features = ['HighBP', 'HighChol', 'BMI', 'smoking', 'Age', 'SBP', 'DBP', 'FPG', 'Chol', 'HDL', 'LDL', 'FFPG', 'drinking']\n",
    "\n",
    "def get_user_input():\n",
    "    \"\"\"\n",
    "    Function to get user input for the important features.\n",
    "    \"\"\"\n",
    "    user_data = {\n",
    "        'HighBP': float(input(\"Enter your High Blood Pressure (0 or 1): \")),\n",
    "        'HighChol': float(input(\"Enter your High Cholesterol (0 or 1): \")),\n",
    "        'BMI': float(input(\"Enter your BMI: \")),\n",
    "        'smoking': float(input(\"Do you smoke (0 or 1): \")),\n",
    "        'Age': float(input(\"Enter your Age: \")),\n",
    "        'SBP': float(input(\"Enter your Systolic Blood Pressure (SBP): \")),\n",
    "        'DBP': float(input(\"Enter your Diastolic Blood Pressure (DBP): \")),\n",
    "        'FPG': float(input(\"Enter your Fasting Plasma Glucose (FPG): \")),\n",
    "        'Chol': float(input(\"Enter your Cholesterol Level (Chol): \")),\n",
    "        'HDL': float(input(\"Enter your HDL Level: \")),\n",
    "        'LDL': float(input(\"Enter your LDL Level: \")),\n",
    "        'FFPG': float(input(\"Enter your Follow-up Fasting Plasma Glucose (FFPG): \")),\n",
    "        'drinking': float(input(\"Do you consume alcohol (0 or 1): \"))\n",
    "    }\n",
    "    return user_data\n",
    "\n",
    "def preprocess_input(user_data):\n",
    "    \"\"\"\n",
    "    Preprocess user input to match all features the model expects.\n",
    "    \"\"\"\n",
    "    # Initialize a dictionary with all expected features, setting defaults to 0\n",
    "    all_data = {feature: 0 for feature in expected_features}\n",
    "    # Update with user-provided values\n",
    "    all_data.update(user_data)\n",
    "    \n",
    "    # Convert to DataFrame with expected columns in the correct order\n",
    "    user_df = pd.DataFrame([all_data])[expected_features]\n",
    "    \n",
    "    return user_df\n",
    "\n",
    "def predict_glucose_level(user_df_scaled):\n",
    "    \"\"\"\n",
    "    Use the trained model to predict the future glucose level.\n",
    "    \"\"\"\n",
    "    # Predict the future glucose level\n",
    "    prediction = regressorModel.predict(user_df_scaled)\n",
    "    return prediction[0]  # Return the predicted glucose level\n",
    "\n",
    "# Main execution\n",
    "if __name__ == '__main__':\n",
    "    # Step 1: Get user input\n",
    "    user_data = get_user_input()\n",
    "    \n",
    "    # Step 2: Preprocess the input data\n",
    "    user_df_scaled = preprocess_input(user_data)\n",
    "    \n",
    "    # Step 3: Predict the future glucose level\n",
    "    future_glucose_level = predict_glucose_level(user_df_scaled)\n",
    "    \n",
    "    print(f\"Predicted Future Glucose Level: {future_glucose_level}\")"
   ]
  },
  {
   "cell_type": "code",
   "execution_count": 10,
   "metadata": {},
   "outputs": [
    {
     "name": "stdout",
     "output_type": "stream",
     "text": [
      "Please enter the following values:\n",
      "\n",
      "Predicted Future Glucose Level: 4.941040000000001\n"
     ]
    }
   ],
   "source": [
    "import pandas as pd\n",
    "\n",
    "# Features used for training\n",
    "feature_columns = [\n",
    "    'Diabetes', 'FFPG', 'BMI', 'SBP', 'DBP', 'Chol', 'HDL', 'LDL', 'Tri', 'ALT', \n",
    "    'BUN', 'CCR', 'PhysActivity', 'smoking', 'drinking', 'HvyAlcoholConsump', \n",
    "    'HighBP', 'HighChol', 'Stroke', 'HeartDiseaseorAttack', 'Age', 'Gender'\n",
    "]\n",
    "\n",
    "def get_user_input():\n",
    "    \"\"\"\n",
    "    Get user input for each feature used in the model.\n",
    "    \"\"\"\n",
    "    user_data = {}\n",
    "    print(\"Please enter the following values:\\n\")\n",
    "    \n",
    "    for feature in feature_columns:\n",
    "        while True:\n",
    "            try:\n",
    "                value = float(input(f\"Enter {feature}: \"))\n",
    "                user_data[feature] = value\n",
    "                break\n",
    "            except ValueError:\n",
    "                print(\"Invalid input. Please enter a numeric value.\")\n",
    "    \n",
    "    # Convert the user input to a DataFrame\n",
    "    user_df = pd.DataFrame([user_data], columns=feature_columns)\n",
    "    return user_df\n",
    "\n",
    "# Predict function using the user input\n",
    "def predict_glucose_level(user_df):\n",
    "    \"\"\"\n",
    "    Use the trained model to predict the future glucose level.\n",
    "    \"\"\"\n",
    "    prediction = regressorModel.predict(user_df)\n",
    "    return prediction[0]\n",
    "\n",
    "# Main code to collect user input and make predictions\n",
    "if __name__ == \"__main__\":\n",
    "    user_data = get_user_input()\n",
    "    future_glucose_level = predict_glucose_level(user_data)\n",
    "    print(f\"Predicted Future Glucose Level: {future_glucose_level}\")\n"
   ]
  },
  {
   "cell_type": "code",
   "execution_count": 9,
   "metadata": {},
   "outputs": [
    {
     "name": "stdout",
     "output_type": "stream",
     "text": [
      "Features used for training: ['Diabetes' 'FFPG' 'BMI' 'SBP' 'DBP' 'Chol' 'HDL' 'LDL' 'Tri' 'ALT' 'BUN'\n",
      " 'CCR' 'PhysActivity' 'smoking' 'drinking' 'HvyAlcoholConsump' 'HighBP'\n",
      " 'HighChol' 'Stroke' 'HeartDiseaseorAttack' 'Age' 'Gender']\n"
     ]
    }
   ],
   "source": [
    "# Check if the model has an attribute to display the feature names\n",
    "try:\n",
    "    feature_names = regressorModel.feature_names_in_\n",
    "    print(\"Features used for training:\", feature_names)\n",
    "except AttributeError:\n",
    "    print(\"Feature names are not stored in the model.\")\n"
   ]
  },
  {
   "cell_type": "code",
   "execution_count": 14,
   "metadata": {},
   "outputs": [
    {
     "name": "stdout",
     "output_type": "stream",
     "text": [
      "Please enter the following values for the key features:\n",
      "\n",
      "Predicted Future Glucose Level: 5.124360000000001\n"
     ]
    }
   ],
   "source": [
    "import pandas as pd\n",
    "\n",
    "# All features used for training\n",
    "all_features = [\n",
    "    'Diabetes', 'FFPG', 'BMI', 'SBP', 'DBP', 'Chol', 'HDL', 'LDL', 'Tri', 'ALT', \n",
    "    'BUN', 'CCR', 'PhysActivity', 'smoking', 'drinking', 'HvyAlcoholConsump', \n",
    "    'HighBP', 'HighChol', 'Stroke', 'HeartDiseaseorAttack', 'Age', 'Gender'\n",
    "]\n",
    "\n",
    "# Key features with high impact\n",
    "key_features = [\n",
    "    'BMI', 'SBP', 'DBP', 'Chol', 'HDL', 'LDL', 'Tri', 'Age', 'Gender'\n",
    "]\n",
    "\n",
    "def get_user_input():\n",
    "    \"\"\"\n",
    "    Get user input for key features and fill in the rest with default values.\n",
    "    \"\"\"\n",
    "    user_data = {feature: 0 for feature in all_features}  # Default values for all features\n",
    "    print(\"Please enter the following values for the key features:\\n\")\n",
    "    \n",
    "    for feature in key_features:\n",
    "        while True:\n",
    "            try:\n",
    "                value = float(input(f\"Enter {feature}: \"))\n",
    "                user_data[feature] = value  # Update only the input features\n",
    "                break\n",
    "            except ValueError:\n",
    "                print(\"Invalid input. Please enter a numeric value.\")\n",
    "    \n",
    "    # Convert the user input to a DataFrame with all features\n",
    "    user_df = pd.DataFrame([user_data], columns=all_features)\n",
    "    return user_df\n",
    "\n",
    "# Predict function using the user input\n",
    "def predict_glucose_level(user_df):\n",
    "    \"\"\"\n",
    "    Use the trained model to predict the future glucose level.\n",
    "    \"\"\"\n",
    "    prediction = regressorModel.predict(user_df)\n",
    "    return prediction[0]\n",
    "\n",
    "# Main code to collect user input and make predictions\n",
    "if __name__ == \"__main__\":\n",
    "    user_data = get_user_input()\n",
    "    future_glucose_level = predict_glucose_level(user_data)\n",
    "    print(f\"Predicted Future Glucose Level: {future_glucose_level}\")\n"
   ]
  },
  {
   "cell_type": "code",
   "execution_count": null,
   "metadata": {},
   "outputs": [],
   "source": []
  }
 ],
 "metadata": {
  "kernelspec": {
   "display_name": ".venv",
   "language": "python",
   "name": "python3"
  },
  "language_info": {
   "codemirror_mode": {
    "name": "ipython",
    "version": 3
   },
   "file_extension": ".py",
   "mimetype": "text/x-python",
   "name": "python",
   "nbconvert_exporter": "python",
   "pygments_lexer": "ipython3",
   "version": "3.12.5"
  }
 },
 "nbformat": 4,
 "nbformat_minor": 2
}
