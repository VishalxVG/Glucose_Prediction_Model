{
 "cells": [
  {
   "cell_type": "markdown",
   "metadata": {},
   "source": [
    "## MODEL TESTING USING CUSTOM INPUTS"
   ]
  },
  {
   "cell_type": "code",
   "execution_count": 1,
   "metadata": {},
   "outputs": [],
   "source": [
    "import joblib"
   ]
  },
  {
   "cell_type": "code",
   "execution_count": 2,
   "metadata": {},
   "outputs": [],
   "source": [
    "boostingModel = joblib.load('glucose_prediction_model_boosting.pkl')"
   ]
  },
  {
   "cell_type": "code",
   "execution_count": 4,
   "metadata": {},
   "outputs": [
    {
     "ename": "ValueError",
     "evalue": "feature_names mismatch: ['HighBP', 'HighChol', 'CholCheck', 'BMI', 'smoking', 'Stroke', 'HeartDiseaseorAttack', 'PhysActivity', 'Fruits', 'Veggies', 'HvyAlcoholConsump', 'AnyHealthcare', 'NoDocbcCost', 'GenHlth', 'MentHlth', 'PhysHlth', 'DiffWalk', 'Gender', 'Age', 'Education', 'Income', 'SBP', 'DBP', 'Chol', 'Tri', 'HDL', 'LDL', 'ALT', 'BUN', 'CCR', 'drinking', 'family_histroy', 'LipidRatio', 'LifestyleIndex'] ['HighBP', 'HighChol', 'BMI', 'smoking', 'Age', 'SBP', 'DBP', 'FPG', 'Chol', 'HDL', 'LDL', 'FFPG', 'drinking']\nexpected PhysHlth, LifestyleIndex, BUN, GenHlth, DiffWalk, Veggies, family_histroy, NoDocbcCost, MentHlth, LipidRatio, PhysActivity, HvyAlcoholConsump, ALT, Gender, CholCheck, Stroke, AnyHealthcare, Education, CCR, Fruits, Income, Tri, HeartDiseaseorAttack in input data\ntraining data did not have the following fields: FFPG, FPG",
     "output_type": "error",
     "traceback": [
      "\u001b[1;31m---------------------------------------------------------------------------\u001b[0m",
      "\u001b[1;31mValueError\u001b[0m                                Traceback (most recent call last)",
      "Cell \u001b[1;32mIn[4], line 57\u001b[0m\n\u001b[0;32m     54\u001b[0m user_df_scaled \u001b[38;5;241m=\u001b[39m preprocess_input(user_data)\n\u001b[0;32m     56\u001b[0m \u001b[38;5;66;03m# Step 3: Predict the future glucose level\u001b[39;00m\n\u001b[1;32m---> 57\u001b[0m future_glucose_level \u001b[38;5;241m=\u001b[39m \u001b[43mpredict_glucose_level\u001b[49m\u001b[43m(\u001b[49m\u001b[43muser_df_scaled\u001b[49m\u001b[43m)\u001b[49m\n\u001b[0;32m     59\u001b[0m \u001b[38;5;28mprint\u001b[39m(\u001b[38;5;124mf\u001b[39m\u001b[38;5;124m\"\u001b[39m\u001b[38;5;124mPredicted Future Glucose Level: \u001b[39m\u001b[38;5;132;01m{\u001b[39;00mfuture_glucose_level\u001b[38;5;132;01m}\u001b[39;00m\u001b[38;5;124m\"\u001b[39m)\n",
      "Cell \u001b[1;32mIn[4], line 44\u001b[0m, in \u001b[0;36mpredict_glucose_level\u001b[1;34m(user_df_scaled)\u001b[0m\n\u001b[0;32m     40\u001b[0m \u001b[38;5;250m\u001b[39m\u001b[38;5;124;03m\"\"\"\u001b[39;00m\n\u001b[0;32m     41\u001b[0m \u001b[38;5;124;03mUse the trained model to predict the future glucose level.\u001b[39;00m\n\u001b[0;32m     42\u001b[0m \u001b[38;5;124;03m\"\"\"\u001b[39;00m\n\u001b[0;32m     43\u001b[0m \u001b[38;5;66;03m# Predict the future glucose level\u001b[39;00m\n\u001b[1;32m---> 44\u001b[0m prediction \u001b[38;5;241m=\u001b[39m \u001b[43mboostingModel\u001b[49m\u001b[38;5;241;43m.\u001b[39;49m\u001b[43mpredict\u001b[49m\u001b[43m(\u001b[49m\u001b[43muser_df_scaled\u001b[49m\u001b[43m)\u001b[49m\n\u001b[0;32m     46\u001b[0m \u001b[38;5;28;01mreturn\u001b[39;00m prediction[\u001b[38;5;241m0\u001b[39m]\n",
      "File \u001b[1;32md:\\CODING\\PYTHON\\MINOR PROJECT\\.venv\\Lib\\site-packages\\sklearn\\multioutput.py:310\u001b[0m, in \u001b[0;36m_MultiOutputEstimator.predict\u001b[1;34m(self, X)\u001b[0m\n\u001b[0;32m    307\u001b[0m \u001b[38;5;28;01mif\u001b[39;00m \u001b[38;5;129;01mnot\u001b[39;00m \u001b[38;5;28mhasattr\u001b[39m(\u001b[38;5;28mself\u001b[39m\u001b[38;5;241m.\u001b[39mestimators_[\u001b[38;5;241m0\u001b[39m], \u001b[38;5;124m\"\u001b[39m\u001b[38;5;124mpredict\u001b[39m\u001b[38;5;124m\"\u001b[39m):\n\u001b[0;32m    308\u001b[0m     \u001b[38;5;28;01mraise\u001b[39;00m \u001b[38;5;167;01mValueError\u001b[39;00m(\u001b[38;5;124m\"\u001b[39m\u001b[38;5;124mThe base estimator should implement a predict method\u001b[39m\u001b[38;5;124m\"\u001b[39m)\n\u001b[1;32m--> 310\u001b[0m y \u001b[38;5;241m=\u001b[39m \u001b[43mParallel\u001b[49m\u001b[43m(\u001b[49m\u001b[43mn_jobs\u001b[49m\u001b[38;5;241;43m=\u001b[39;49m\u001b[38;5;28;43mself\u001b[39;49m\u001b[38;5;241;43m.\u001b[39;49m\u001b[43mn_jobs\u001b[49m\u001b[43m)\u001b[49m\u001b[43m(\u001b[49m\n\u001b[0;32m    311\u001b[0m \u001b[43m    \u001b[49m\u001b[43mdelayed\u001b[49m\u001b[43m(\u001b[49m\u001b[43me\u001b[49m\u001b[38;5;241;43m.\u001b[39;49m\u001b[43mpredict\u001b[49m\u001b[43m)\u001b[49m\u001b[43m(\u001b[49m\u001b[43mX\u001b[49m\u001b[43m)\u001b[49m\u001b[43m \u001b[49m\u001b[38;5;28;43;01mfor\u001b[39;49;00m\u001b[43m \u001b[49m\u001b[43me\u001b[49m\u001b[43m \u001b[49m\u001b[38;5;129;43;01min\u001b[39;49;00m\u001b[43m \u001b[49m\u001b[38;5;28;43mself\u001b[39;49m\u001b[38;5;241;43m.\u001b[39;49m\u001b[43mestimators_\u001b[49m\n\u001b[0;32m    312\u001b[0m \u001b[43m\u001b[49m\u001b[43m)\u001b[49m\n\u001b[0;32m    314\u001b[0m \u001b[38;5;28;01mreturn\u001b[39;00m np\u001b[38;5;241m.\u001b[39masarray(y)\u001b[38;5;241m.\u001b[39mT\n",
      "File \u001b[1;32md:\\CODING\\PYTHON\\MINOR PROJECT\\.venv\\Lib\\site-packages\\sklearn\\utils\\parallel.py:74\u001b[0m, in \u001b[0;36mParallel.__call__\u001b[1;34m(self, iterable)\u001b[0m\n\u001b[0;32m     69\u001b[0m config \u001b[38;5;241m=\u001b[39m get_config()\n\u001b[0;32m     70\u001b[0m iterable_with_config \u001b[38;5;241m=\u001b[39m (\n\u001b[0;32m     71\u001b[0m     (_with_config(delayed_func, config), args, kwargs)\n\u001b[0;32m     72\u001b[0m     \u001b[38;5;28;01mfor\u001b[39;00m delayed_func, args, kwargs \u001b[38;5;129;01min\u001b[39;00m iterable\n\u001b[0;32m     73\u001b[0m )\n\u001b[1;32m---> 74\u001b[0m \u001b[38;5;28;01mreturn\u001b[39;00m \u001b[38;5;28;43msuper\u001b[39;49m\u001b[43m(\u001b[49m\u001b[43m)\u001b[49m\u001b[38;5;241;43m.\u001b[39;49m\u001b[38;5;21;43m__call__\u001b[39;49m\u001b[43m(\u001b[49m\u001b[43miterable_with_config\u001b[49m\u001b[43m)\u001b[49m\n",
      "File \u001b[1;32md:\\CODING\\PYTHON\\MINOR PROJECT\\.venv\\Lib\\site-packages\\joblib\\parallel.py:1918\u001b[0m, in \u001b[0;36mParallel.__call__\u001b[1;34m(self, iterable)\u001b[0m\n\u001b[0;32m   1916\u001b[0m     output \u001b[38;5;241m=\u001b[39m \u001b[38;5;28mself\u001b[39m\u001b[38;5;241m.\u001b[39m_get_sequential_output(iterable)\n\u001b[0;32m   1917\u001b[0m     \u001b[38;5;28mnext\u001b[39m(output)\n\u001b[1;32m-> 1918\u001b[0m     \u001b[38;5;28;01mreturn\u001b[39;00m output \u001b[38;5;28;01mif\u001b[39;00m \u001b[38;5;28mself\u001b[39m\u001b[38;5;241m.\u001b[39mreturn_generator \u001b[38;5;28;01melse\u001b[39;00m \u001b[38;5;28;43mlist\u001b[39;49m\u001b[43m(\u001b[49m\u001b[43moutput\u001b[49m\u001b[43m)\u001b[49m\n\u001b[0;32m   1920\u001b[0m \u001b[38;5;66;03m# Let's create an ID that uniquely identifies the current call. If the\u001b[39;00m\n\u001b[0;32m   1921\u001b[0m \u001b[38;5;66;03m# call is interrupted early and that the same instance is immediately\u001b[39;00m\n\u001b[0;32m   1922\u001b[0m \u001b[38;5;66;03m# re-used, this id will be used to prevent workers that were\u001b[39;00m\n\u001b[0;32m   1923\u001b[0m \u001b[38;5;66;03m# concurrently finalizing a task from the previous call to run the\u001b[39;00m\n\u001b[0;32m   1924\u001b[0m \u001b[38;5;66;03m# callback.\u001b[39;00m\n\u001b[0;32m   1925\u001b[0m \u001b[38;5;28;01mwith\u001b[39;00m \u001b[38;5;28mself\u001b[39m\u001b[38;5;241m.\u001b[39m_lock:\n",
      "File \u001b[1;32md:\\CODING\\PYTHON\\MINOR PROJECT\\.venv\\Lib\\site-packages\\joblib\\parallel.py:1847\u001b[0m, in \u001b[0;36mParallel._get_sequential_output\u001b[1;34m(self, iterable)\u001b[0m\n\u001b[0;32m   1845\u001b[0m \u001b[38;5;28mself\u001b[39m\u001b[38;5;241m.\u001b[39mn_dispatched_batches \u001b[38;5;241m+\u001b[39m\u001b[38;5;241m=\u001b[39m \u001b[38;5;241m1\u001b[39m\n\u001b[0;32m   1846\u001b[0m \u001b[38;5;28mself\u001b[39m\u001b[38;5;241m.\u001b[39mn_dispatched_tasks \u001b[38;5;241m+\u001b[39m\u001b[38;5;241m=\u001b[39m \u001b[38;5;241m1\u001b[39m\n\u001b[1;32m-> 1847\u001b[0m res \u001b[38;5;241m=\u001b[39m \u001b[43mfunc\u001b[49m\u001b[43m(\u001b[49m\u001b[38;5;241;43m*\u001b[39;49m\u001b[43margs\u001b[49m\u001b[43m,\u001b[49m\u001b[43m \u001b[49m\u001b[38;5;241;43m*\u001b[39;49m\u001b[38;5;241;43m*\u001b[39;49m\u001b[43mkwargs\u001b[49m\u001b[43m)\u001b[49m\n\u001b[0;32m   1848\u001b[0m \u001b[38;5;28mself\u001b[39m\u001b[38;5;241m.\u001b[39mn_completed_tasks \u001b[38;5;241m+\u001b[39m\u001b[38;5;241m=\u001b[39m \u001b[38;5;241m1\u001b[39m\n\u001b[0;32m   1849\u001b[0m \u001b[38;5;28mself\u001b[39m\u001b[38;5;241m.\u001b[39mprint_progress()\n",
      "File \u001b[1;32md:\\CODING\\PYTHON\\MINOR PROJECT\\.venv\\Lib\\site-packages\\sklearn\\utils\\parallel.py:136\u001b[0m, in \u001b[0;36m_FuncWrapper.__call__\u001b[1;34m(self, *args, **kwargs)\u001b[0m\n\u001b[0;32m    134\u001b[0m     config \u001b[38;5;241m=\u001b[39m {}\n\u001b[0;32m    135\u001b[0m \u001b[38;5;28;01mwith\u001b[39;00m config_context(\u001b[38;5;241m*\u001b[39m\u001b[38;5;241m*\u001b[39mconfig):\n\u001b[1;32m--> 136\u001b[0m     \u001b[38;5;28;01mreturn\u001b[39;00m \u001b[38;5;28;43mself\u001b[39;49m\u001b[38;5;241;43m.\u001b[39;49m\u001b[43mfunction\u001b[49m\u001b[43m(\u001b[49m\u001b[38;5;241;43m*\u001b[39;49m\u001b[43margs\u001b[49m\u001b[43m,\u001b[49m\u001b[43m \u001b[49m\u001b[38;5;241;43m*\u001b[39;49m\u001b[38;5;241;43m*\u001b[39;49m\u001b[43mkwargs\u001b[49m\u001b[43m)\u001b[49m\n",
      "File \u001b[1;32md:\\CODING\\PYTHON\\MINOR PROJECT\\.venv\\Lib\\site-packages\\xgboost\\sklearn.py:1186\u001b[0m, in \u001b[0;36mXGBModel.predict\u001b[1;34m(self, X, output_margin, validate_features, base_margin, iteration_range)\u001b[0m\n\u001b[0;32m   1184\u001b[0m \u001b[38;5;28;01mif\u001b[39;00m \u001b[38;5;28mself\u001b[39m\u001b[38;5;241m.\u001b[39m_can_use_inplace_predict():\n\u001b[0;32m   1185\u001b[0m     \u001b[38;5;28;01mtry\u001b[39;00m:\n\u001b[1;32m-> 1186\u001b[0m         predts \u001b[38;5;241m=\u001b[39m \u001b[38;5;28;43mself\u001b[39;49m\u001b[38;5;241;43m.\u001b[39;49m\u001b[43mget_booster\u001b[49m\u001b[43m(\u001b[49m\u001b[43m)\u001b[49m\u001b[38;5;241;43m.\u001b[39;49m\u001b[43minplace_predict\u001b[49m\u001b[43m(\u001b[49m\n\u001b[0;32m   1187\u001b[0m \u001b[43m            \u001b[49m\u001b[43mdata\u001b[49m\u001b[38;5;241;43m=\u001b[39;49m\u001b[43mX\u001b[49m\u001b[43m,\u001b[49m\n\u001b[0;32m   1188\u001b[0m \u001b[43m            \u001b[49m\u001b[43miteration_range\u001b[49m\u001b[38;5;241;43m=\u001b[39;49m\u001b[43miteration_range\u001b[49m\u001b[43m,\u001b[49m\n\u001b[0;32m   1189\u001b[0m \u001b[43m            \u001b[49m\u001b[43mpredict_type\u001b[49m\u001b[38;5;241;43m=\u001b[39;49m\u001b[38;5;124;43m\"\u001b[39;49m\u001b[38;5;124;43mmargin\u001b[39;49m\u001b[38;5;124;43m\"\u001b[39;49m\u001b[43m \u001b[49m\u001b[38;5;28;43;01mif\u001b[39;49;00m\u001b[43m \u001b[49m\u001b[43moutput_margin\u001b[49m\u001b[43m \u001b[49m\u001b[38;5;28;43;01melse\u001b[39;49;00m\u001b[43m \u001b[49m\u001b[38;5;124;43m\"\u001b[39;49m\u001b[38;5;124;43mvalue\u001b[39;49m\u001b[38;5;124;43m\"\u001b[39;49m\u001b[43m,\u001b[49m\n\u001b[0;32m   1190\u001b[0m \u001b[43m            \u001b[49m\u001b[43mmissing\u001b[49m\u001b[38;5;241;43m=\u001b[39;49m\u001b[38;5;28;43mself\u001b[39;49m\u001b[38;5;241;43m.\u001b[39;49m\u001b[43mmissing\u001b[49m\u001b[43m,\u001b[49m\n\u001b[0;32m   1191\u001b[0m \u001b[43m            \u001b[49m\u001b[43mbase_margin\u001b[49m\u001b[38;5;241;43m=\u001b[39;49m\u001b[43mbase_margin\u001b[49m\u001b[43m,\u001b[49m\n\u001b[0;32m   1192\u001b[0m \u001b[43m            \u001b[49m\u001b[43mvalidate_features\u001b[49m\u001b[38;5;241;43m=\u001b[39;49m\u001b[43mvalidate_features\u001b[49m\u001b[43m,\u001b[49m\n\u001b[0;32m   1193\u001b[0m \u001b[43m        \u001b[49m\u001b[43m)\u001b[49m\n\u001b[0;32m   1194\u001b[0m         \u001b[38;5;28;01mif\u001b[39;00m _is_cupy_alike(predts):\n\u001b[0;32m   1195\u001b[0m             \u001b[38;5;28;01mimport\u001b[39;00m \u001b[38;5;21;01mcupy\u001b[39;00m  \u001b[38;5;66;03m# pylint: disable=import-error\u001b[39;00m\n",
      "File \u001b[1;32md:\\CODING\\PYTHON\\MINOR PROJECT\\.venv\\Lib\\site-packages\\xgboost\\core.py:2510\u001b[0m, in \u001b[0;36mBooster.inplace_predict\u001b[1;34m(self, data, iteration_range, predict_type, missing, validate_features, base_margin, strict_shape)\u001b[0m\n\u001b[0;32m   2508\u001b[0m     data, fns, _ \u001b[38;5;241m=\u001b[39m _transform_pandas_df(data, enable_categorical)\n\u001b[0;32m   2509\u001b[0m     \u001b[38;5;28;01mif\u001b[39;00m validate_features:\n\u001b[1;32m-> 2510\u001b[0m         \u001b[38;5;28;43mself\u001b[39;49m\u001b[38;5;241;43m.\u001b[39;49m\u001b[43m_validate_features\u001b[49m\u001b[43m(\u001b[49m\u001b[43mfns\u001b[49m\u001b[43m)\u001b[49m\n\u001b[0;32m   2511\u001b[0m \u001b[38;5;28;01mif\u001b[39;00m _is_list(data) \u001b[38;5;129;01mor\u001b[39;00m _is_tuple(data):\n\u001b[0;32m   2512\u001b[0m     data \u001b[38;5;241m=\u001b[39m np\u001b[38;5;241m.\u001b[39marray(data)\n",
      "File \u001b[1;32md:\\CODING\\PYTHON\\MINOR PROJECT\\.venv\\Lib\\site-packages\\xgboost\\core.py:3075\u001b[0m, in \u001b[0;36mBooster._validate_features\u001b[1;34m(self, feature_names)\u001b[0m\n\u001b[0;32m   3069\u001b[0m \u001b[38;5;28;01mif\u001b[39;00m my_missing:\n\u001b[0;32m   3070\u001b[0m     msg \u001b[38;5;241m+\u001b[39m\u001b[38;5;241m=\u001b[39m (\n\u001b[0;32m   3071\u001b[0m         \u001b[38;5;124m\"\u001b[39m\u001b[38;5;130;01m\\n\u001b[39;00m\u001b[38;5;124mtraining data did not have the following fields: \u001b[39m\u001b[38;5;124m\"\u001b[39m\n\u001b[0;32m   3072\u001b[0m         \u001b[38;5;241m+\u001b[39m \u001b[38;5;124m\"\u001b[39m\u001b[38;5;124m, \u001b[39m\u001b[38;5;124m\"\u001b[39m\u001b[38;5;241m.\u001b[39mjoin(\u001b[38;5;28mstr\u001b[39m(s) \u001b[38;5;28;01mfor\u001b[39;00m s \u001b[38;5;129;01min\u001b[39;00m my_missing)\n\u001b[0;32m   3073\u001b[0m     )\n\u001b[1;32m-> 3075\u001b[0m \u001b[38;5;28;01mraise\u001b[39;00m \u001b[38;5;167;01mValueError\u001b[39;00m(msg\u001b[38;5;241m.\u001b[39mformat(\u001b[38;5;28mself\u001b[39m\u001b[38;5;241m.\u001b[39mfeature_names, feature_names))\n",
      "\u001b[1;31mValueError\u001b[0m: feature_names mismatch: ['HighBP', 'HighChol', 'CholCheck', 'BMI', 'smoking', 'Stroke', 'HeartDiseaseorAttack', 'PhysActivity', 'Fruits', 'Veggies', 'HvyAlcoholConsump', 'AnyHealthcare', 'NoDocbcCost', 'GenHlth', 'MentHlth', 'PhysHlth', 'DiffWalk', 'Gender', 'Age', 'Education', 'Income', 'SBP', 'DBP', 'Chol', 'Tri', 'HDL', 'LDL', 'ALT', 'BUN', 'CCR', 'drinking', 'family_histroy', 'LipidRatio', 'LifestyleIndex'] ['HighBP', 'HighChol', 'BMI', 'smoking', 'Age', 'SBP', 'DBP', 'FPG', 'Chol', 'HDL', 'LDL', 'FFPG', 'drinking']\nexpected PhysHlth, LifestyleIndex, BUN, GenHlth, DiffWalk, Veggies, family_histroy, NoDocbcCost, MentHlth, LipidRatio, PhysActivity, HvyAlcoholConsump, ALT, Gender, CholCheck, Stroke, AnyHealthcare, Education, CCR, Fruits, Income, Tri, HeartDiseaseorAttack in input data\ntraining data did not have the following fields: FFPG, FPG"
     ]
    }
   ],
   "source": [
    "\n",
    "import numpy as np\n",
    "import pandas as pd\n",
    "# Define the important features based on your model's analysis\n",
    "important_features = ['HighBP', 'HighChol', 'BMI', 'smoking', 'Age', 'SBP', 'DBP', 'FPG', 'Chol', 'HDL', 'LDL', 'FFPG', 'drinking']\n",
    "\n",
    "def get_user_input():\n",
    "    \"\"\"\n",
    "    Function to get user input for the important features.\n",
    "    \"\"\"\n",
    "    # You can adapt this to collect input via a web form, terminal, or app UI\n",
    "    user_data = {\n",
    "        'HighBP': float(input(\"Enter your High Blood Pressure (0 or 1): \")),\n",
    "        'HighChol': float(input(\"Enter your High Cholesterol (0 or 1): \")),\n",
    "        'BMI': float(input(\"Enter your BMI: \")),\n",
    "        'smoking': float(input(\"Do you smoke (0 or 1): \")),\n",
    "        'Age': float(input(\"Enter your Age: \")),\n",
    "        'SBP': float(input(\"Enter your Systolic Blood Pressure (SBP): \")),\n",
    "        'DBP': float(input(\"Enter your Diastolic Blood Pressure (DBP): \")),\n",
    "        'FPG': float(input(\"Enter your Fasting Plasma Glucose (FPG): \")),\n",
    "        'Chol': float(input(\"Enter your Cholesterol Level (Chol): \")),\n",
    "        'HDL': float(input(\"Enter your HDL Level: \")),\n",
    "        'LDL': float(input(\"Enter your LDL Level: \")),\n",
    "        'FFPG': float(input(\"Enter your Follow-up Fasting Plasma Glucose (FFPG): \")),\n",
    "        'drinking': float(input(\"Do you consume alcohol (0 or 1): \"))\n",
    "    }\n",
    "    \n",
    "    return user_data\n",
    "\n",
    "def preprocess_input(user_data):\n",
    "    \"\"\"\n",
    "    Preprocess user input (e.g., scaling numerical features).\n",
    "    \"\"\"\n",
    "    # Convert user input to DataFrame\n",
    "    user_df = pd.DataFrame([user_data])\n",
    "    \n",
    "    \n",
    "    return user_df\n",
    "\n",
    "def predict_glucose_level(user_df_scaled):\n",
    "    \"\"\"\n",
    "    Use the trained model to predict the future glucose level.\n",
    "    \"\"\"\n",
    "    # Predict the future glucose level\n",
    "    prediction = boostingModel.predict(user_df_scaled)\n",
    "    \n",
    "    return prediction[0]  # Return the predicted glucose level\n",
    "\n",
    "# Main execution\n",
    "if __name__ == '__main__':\n",
    "    # Step 1: Get user input\n",
    "    user_data = get_user_input()\n",
    "    \n",
    "    # Step 2: Preprocess the input data\n",
    "    user_df_scaled = preprocess_input(user_data)\n",
    "    \n",
    "    # Step 3: Predict the future glucose level\n",
    "    future_glucose_level = predict_glucose_level(user_df_scaled)\n",
    "    \n",
    "    print(f\"Predicted Future Glucose Level: {future_glucose_level}\")\n"
   ]
  },
  {
   "cell_type": "code",
   "execution_count": 5,
   "metadata": {},
   "outputs": [
    {
     "name": "stdout",
     "output_type": "stream",
     "text": [
      "Features used for training: ['HighBP' 'HighChol' 'CholCheck' 'BMI' 'smoking' 'Stroke'\n",
      " 'HeartDiseaseorAttack' 'PhysActivity' 'Fruits' 'Veggies'\n",
      " 'HvyAlcoholConsump' 'AnyHealthcare' 'NoDocbcCost' 'GenHlth' 'MentHlth'\n",
      " 'PhysHlth' 'DiffWalk' 'Gender' 'Age' 'Education' 'Income' 'SBP' 'DBP'\n",
      " 'Chol' 'Tri' 'HDL' 'LDL' 'ALT' 'BUN' 'CCR' 'drinking' 'family_histroy'\n",
      " 'LipidRatio' 'LifestyleIndex']\n"
     ]
    }
   ],
   "source": [
    "try:\n",
    "    feature_names = boostingModel.feature_names_in_\n",
    "    print(\"Features used for training:\", feature_names)\n",
    "except AttributeError:\n",
    "    print(\"Feature names are not stored in the model.\")\n"
   ]
  },
  {
   "cell_type": "code",
   "execution_count": 15,
   "metadata": {},
   "outputs": [
    {
     "name": "stdout",
     "output_type": "stream",
     "text": [
      "Please enter the following values for the key features:\n",
      "\n",
      "Predicted Future Glucose Level: [ 96.96144 129.70209]\n"
     ]
    }
   ],
   "source": [
    "import pandas as pd\n",
    "\n",
    "# All features used for training\n",
    "all_features = [\n",
    "    'HighBP', 'HighChol', 'CholCheck' ,'BMI', 'smoking' ,'Stroke',\n",
    " 'HeartDiseaseorAttack' ,'PhysActivity', 'Fruits', 'Veggies',\n",
    " 'HvyAlcoholConsump' ,'AnyHealthcare', 'NoDocbcCost', 'GenHlth', 'MentHlth',\n",
    " 'PhysHlth', 'DiffWalk' ,'Gender' ,'Age', 'Education' ,'Income' ,'SBP', 'DBP',\n",
    " 'Chol' ,'Tri' ,'HDL' ,'LDL', 'ALT' ,'BUN', 'CCR', 'drinking' ,'family_histroy',\n",
    " 'LipidRatio', 'LifestyleIndex'\n",
    "]\n",
    "\n",
    "# Key features with high impact\n",
    "key_features = [\n",
    "    'Age' , 'drinking' , 'HDL' , 'Tri' , 'smoking' , 'Chol' , 'DBP' , 'ALT' , 'BUN' , 'LDL' , 'BMI' , 'Gender'\n",
    "]\n",
    "\n",
    "def get_user_input():\n",
    "    \"\"\"\n",
    "    Get user input for key features and fill in the rest with default values.\n",
    "    \"\"\"\n",
    "    user_data = {feature: 0 for feature in all_features}  # Default values for all features\n",
    "    print(\"Please enter the following values for the key features:\\n\")\n",
    "    \n",
    "    for feature in key_features:\n",
    "        while True:\n",
    "            try:\n",
    "                value = float(input(f\"Enter {feature}: \"))\n",
    "                user_data[feature] = value  # Update only the input features\n",
    "                break\n",
    "            except ValueError:\n",
    "                print(\"Invalid input. Please enter a numeric value.\")\n",
    "    \n",
    "    # Convert the user input to a DataFrame with all features\n",
    "    user_df = pd.DataFrame([user_data], columns=all_features)\n",
    "    return user_df\n",
    "\n",
    "# Predict function using the user input\n",
    "def predict_glucose_level(user_df):\n",
    "    \"\"\"\n",
    "    Use the trained model to predict the future glucose level.\n",
    "    \"\"\"\n",
    "    prediction = boostingModel.predict(user_df)\n",
    "    return prediction[0]\n",
    "\n",
    "# Main code to collect user input and make predictions\n",
    "if __name__ == \"__main__\":\n",
    "    user_data = get_user_input()\n",
    "    future_glucose_level = predict_glucose_level(user_data)\n",
    "    print(f\"Predicted Future Glucose Level: {future_glucose_level * 18.015}\")\n"
   ]
  },
  {
   "cell_type": "code",
   "execution_count": null,
   "metadata": {},
   "outputs": [],
   "source": []
  }
 ],
 "metadata": {
  "kernelspec": {
   "display_name": ".venv",
   "language": "python",
   "name": "python3"
  },
  "language_info": {
   "codemirror_mode": {
    "name": "ipython",
    "version": 3
   },
   "file_extension": ".py",
   "mimetype": "text/x-python",
   "name": "python",
   "nbconvert_exporter": "python",
   "pygments_lexer": "ipython3",
   "version": "3.12.5"
  }
 },
 "nbformat": 4,
 "nbformat_minor": 2
}
