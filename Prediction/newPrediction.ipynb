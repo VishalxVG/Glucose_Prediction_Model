{
 "cells": [
  {
   "cell_type": "code",
   "execution_count": 6,
   "metadata": {},
   "outputs": [
    {
     "name": "stderr",
     "output_type": "stream",
     "text": [
      "\u001b[34mscalar 2018-09-10T2016Z\u001b[0m\n"
     ]
    }
   ],
   "source": [
    "import joblib\n",
    "import pandas as pd\n",
    "import scalar\n",
    "\n",
    "# Load the saved model\n",
    "loaded_model = joblib.load('model_regressor.pkl')\n",
    "\n"
   ]
  },
  {
   "cell_type": "code",
   "execution_count": 11,
   "metadata": {},
   "outputs": [
    {
     "name": "stdout",
     "output_type": "stream",
     "text": [
      "Predicted Glucose Level: [105.95477 162.19519]\n"
     ]
    }
   ],
   "source": [
    "def predict_glucose_level():\n",
    "    # Get user input\n",
    "    user_input = {}\n",
    "    features = ['Age', 'Gender', 'drinking', 'smoking', 'BMI', 'Chol', 'HDL', 'BUN', 'Tri', 'CCR', 'LDL', 'SBP', 'DBP']\n",
    "    \n",
    "    for feature in features:\n",
    "        \n",
    "        user_input[feature] = float(input(f\"Enter {feature}: \"))\n",
    "    \n",
    "    # Convert user input to DataFrame\n",
    "    user_df = pd.DataFrame([user_input])\n",
    "    \n",
    "    # Ensure the order of columns matches the training data\n",
    "    user_df = user_df.reindex(columns=features, fill_value=0)\n",
    "    \n",
    "    \n",
    "    # Make prediction\n",
    "    prediction = loaded_model.predict(user_df)\n",
    "    \n",
    "    print(f\"Predicted Glucose Level: {prediction[0] * 18.015}\")\n",
    "\n",
    "# Example usage\n",
    "predict_glucose_level()"
   ]
  },
  {
   "cell_type": "code",
   "execution_count": null,
   "metadata": {},
   "outputs": [],
   "source": []
  }
 ],
 "metadata": {
  "kernelspec": {
   "display_name": ".venv",
   "language": "python",
   "name": "python3"
  },
  "language_info": {
   "codemirror_mode": {
    "name": "ipython",
    "version": 3
   },
   "file_extension": ".py",
   "mimetype": "text/x-python",
   "name": "python",
   "nbconvert_exporter": "python",
   "pygments_lexer": "ipython3",
   "version": "3.12.5"
  }
 },
 "nbformat": 4,
 "nbformat_minor": 2
}
