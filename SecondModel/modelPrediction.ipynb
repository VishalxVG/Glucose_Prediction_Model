{
 "cells": [
  {
   "cell_type": "code",
   "execution_count": 1,
   "metadata": {},
   "outputs": [],
   "source": [
    "import joblib"
   ]
  },
  {
   "cell_type": "code",
   "execution_count": 2,
   "metadata": {},
   "outputs": [
    {
     "ename": "UnpicklingError",
     "evalue": "invalid load key, '\\x04'.",
     "output_type": "error",
     "traceback": [
      "\u001b[1;31m---------------------------------------------------------------------------\u001b[0m",
      "\u001b[1;31mUnpicklingError\u001b[0m                           Traceback (most recent call last)",
      "Cell \u001b[1;32mIn[2], line 7\u001b[0m\n\u001b[0;32m      5\u001b[0m \u001b[38;5;66;03m# Load the model\u001b[39;00m\n\u001b[0;32m      6\u001b[0m \u001b[38;5;28;01mwith\u001b[39;00m \u001b[38;5;28mopen\u001b[39m(\u001b[38;5;124m'\u001b[39m\u001b[38;5;124mSecond_model.pkl\u001b[39m\u001b[38;5;124m'\u001b[39m, \u001b[38;5;124m'\u001b[39m\u001b[38;5;124mrb\u001b[39m\u001b[38;5;124m'\u001b[39m) \u001b[38;5;28;01mas\u001b[39;00m file:\n\u001b[1;32m----> 7\u001b[0m     loaded_model \u001b[38;5;241m=\u001b[39m \u001b[43mpickle\u001b[49m\u001b[38;5;241;43m.\u001b[39;49m\u001b[43mload\u001b[49m\u001b[43m(\u001b[49m\u001b[43mfile\u001b[49m\u001b[43m)\u001b[49m\n\u001b[0;32m      9\u001b[0m \u001b[38;5;66;03m# Function to predict risk based on user input\u001b[39;00m\n\u001b[0;32m     10\u001b[0m \u001b[38;5;28;01mdef\u001b[39;00m \u001b[38;5;21mpredict_risk\u001b[39m(user_input):\n\u001b[0;32m     11\u001b[0m     \u001b[38;5;66;03m# Convert user input into a DataFrame\u001b[39;00m\n",
      "\u001b[1;31mUnpicklingError\u001b[0m: invalid load key, '\\x04'."
     ]
    }
   ],
   "source": [
    "import pickle\n",
    "import numpy as np\n",
    "import pandas as pd\n",
    "\n",
    "# Load the model\n",
    "with open('Second_model.pkl', 'rb') as file:\n",
    "    loaded_model = joblib.load(file)\n",
    "\n",
    "# Function to predict risk based on user input\n",
    "def predict_risk(user_input):\n",
    "    # Convert user input into a DataFrame\n",
    "    input_df = pd.DataFrame([user_input])\n",
    "\n",
    "    # Predict the probability of each disease\n",
    "    risk_estimates = {}\n",
    "    for disease, model in loaded_model.items():\n",
    "        prob = model.predict_proba(input_df)[:, 1][0] * 100  # Get probability for the positive class\n",
    "        risk_estimates[disease] = f\"{prob:.2f}%\"  # Format as percentage\n",
    "\n",
    "    return risk_estimates\n",
    "\n",
    "# Example: Take user input (replace with actual user input collection in practice)\n",
    "user_input = {\n",
    "    'Age': 45,\n",
    "    'Gender': 1,  # 1 for male, 0 for female (adjust based on your encoding)\n",
    "    'Tri': 150,\n",
    "    'Chol': 200,\n",
    "    'ALT': 40,\n",
    "    'BMI': 25,\n",
    "    'LDL': 120,\n",
    "    'HDL': 55,\n",
    "    'HighBP': 1,\n",
    "    'BUN': 18,\n",
    "    'FPG': 100,\n",
    "    'FFPG': 110,\n",
    "    'CCR': 1.1,\n",
    "    'SBP': 120,\n",
    "    'DBP': 80\n",
    "}\n",
    "\n",
    "# Predict risk\n",
    "risk_prediction = predict_risk(user_input)\n",
    "print(\"Risk Prediction for Each Disease:\", risk_prediction)\n"
   ]
  },
  {
   "cell_type": "code",
   "execution_count": null,
   "metadata": {},
   "outputs": [],
   "source": []
  }
 ],
 "metadata": {
  "kernelspec": {
   "display_name": ".venv",
   "language": "python",
   "name": "python3"
  },
  "language_info": {
   "codemirror_mode": {
    "name": "ipython",
    "version": 3
   },
   "file_extension": ".py",
   "mimetype": "text/x-python",
   "name": "python",
   "nbconvert_exporter": "python",
   "pygments_lexer": "ipython3",
   "version": "3.12.5"
  }
 },
 "nbformat": 4,
 "nbformat_minor": 2
}
